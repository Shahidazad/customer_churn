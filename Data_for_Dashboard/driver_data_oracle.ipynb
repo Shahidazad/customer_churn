{
 "cells": [
  {
   "cell_type": "code",
   "execution_count": 25,
   "id": "073034d2",
   "metadata": {},
   "outputs": [],
   "source": [
    "import pandas as pd\n",
    "import matplotlib.pyplot as plt\n",
    "import numpy as np\n",
    "import math\n",
    "\n"
   ]
  },
  {
   "cell_type": "code",
   "execution_count": null,
   "id": "85d100a6",
   "metadata": {},
   "outputs": [],
   "source": [
    "# importing the data\n",
    "\n",
    "ride_df=pd.read_csv('Trip_data.csv')\n",
    "driver_df=pd.read_csv('driver_data_raw.csv')"
   ]
  },
  {
   "cell_type": "code",
   "execution_count": null,
   "id": "0686de6b",
   "metadata": {},
   "outputs": [],
   "source": [
    "driver_df.drop('Unnamed: 0',axis=1,inplace=True)\n",
    "ride_df.drop('Unnamed: 0',axis=1,inplace=True)"
   ]
  },
  {
   "cell_type": "code",
   "execution_count": null,
   "id": "f66ffbc8",
   "metadata": {},
   "outputs": [],
   "source": [
    "def haversine_distance(lat1, lon1, lat2, lon2):\n",
    "    \"\"\"Calculate the  distance between two points on a Earth.\"\"\"\n",
    "\n",
    "\n",
    "    # Convert latitude and longitude from degrees to radians\n",
    "    lat1_rad = math.radians(lat1)\n",
    "    lon1_rad = math.radians(lon1)\n",
    "    lat2_rad = math.radians(lat2)\n",
    "    lon2_rad = math.radians(lon2)\n",
    "\n",
    "    # Haversine formula\n",
    "    dlat = lat2_rad - lat1_rad\n",
    "    dlon = lon2_rad - lon1_rad\n",
    "    a = math.sin(dlat/2) * math.sin(dlat/2) + math.cos(lat1_rad) * math.cos(lat2_rad) * math.sin(dlon/2) * math.sin(dlon/2)\n",
    "    c = 2 * math.atan2(math.sqrt(a), math.sqrt(1-a))\n",
    "\n",
    "    # Radius of the Earth in kilometers \n",
    "    r = 6371\n",
    "\n",
    "    # Calculate the distance\n",
    "    distance = r * c\n",
    "    return distance"
   ]
  },
  {
   "cell_type": "code",
   "execution_count": null,
   "id": "c8ed6036",
   "metadata": {},
   "outputs": [],
   "source": [
    "#  DataFrame named 'ride_df' with columns 'latitude' and 'longitude'\n",
    "ride_df['distance_km'] = ride_df.apply(lambda row: haversine_distance(row['Origin_latitude'], row['Origin_longitude'], row['Dest_latitude'], row['Dest_longitude']), axis=1)\n"
   ]
  },
  {
   "cell_type": "code",
   "execution_count": null,
   "id": "8b3e3a5c",
   "metadata": {},
   "outputs": [],
   "source": [
    "# Convert the 'datetime_column' to datetime format\n",
    "ride_df['Trip_StartTime'] = pd.to_datetime(ride_df['Trip_StartTime'])\n",
    "\n",
    "# Create new columns for date and time (without UTC)\n",
    "ride_df['Trip_StartTime'] = ride_df['Trip_StartTime'].dt.strftime('%Y-%m-%d %H:%M:%S')\n"
   ]
  },
  {
   "cell_type": "code",
   "execution_count": null,
   "id": "f26bebbb",
   "metadata": {},
   "outputs": [],
   "source": [
    "# Sorting data by Trip_StartTime\n",
    "ride_df=ride_df.sort_values(by='Trip_StartTime')"
   ]
  },
  {
   "cell_type": "code",
   "execution_count": null,
   "id": "0f356436",
   "metadata": {},
   "outputs": [],
   "source": [
    "ride_df=ride_df.reset_index(drop=True)"
   ]
  },
  {
   "cell_type": "code",
   "execution_count": null,
   "id": "335a27fd",
   "metadata": {},
   "outputs": [],
   "source": [
    "# Convert 'pickup_datetime' to datetime format (skip this step if already in datetime format)\n",
    "ride_df['Trip_StartTime'] = pd.to_datetime(ride_df['Trip_StartTime'])"
   ]
  },
  {
   "cell_type": "code",
   "execution_count": null,
   "id": "44f59d51",
   "metadata": {},
   "outputs": [],
   "source": [
    "def remove_outliers_iqr(series,q3):\n",
    "    \"\"\"Removes outliers from a pandas Series using the interquartile range (IQR) method.\n",
    "\n",
    "    Args:\n",
    "        series: A pandas Series.\n",
    "        q3 : 75 percentile.\n",
    "\n",
    "    Returns:\n",
    "        A pandas Series with outliers removed.\n",
    "    \"\"\"\n",
    "    # Calculate the first and third quartiles (Q1 and Q3) of the Series\n",
    "    q1 = series.quantile(0.25)\n",
    "    q3 = series.quantile(q3)\n",
    "    \n",
    "    # Calculate the interquartile range (IQR)\n",
    "    iqr = q3 - q1\n",
    "    \n",
    "    # Define the lower and upper bounds for outliers\n",
    "    lower_bound = q1 - (1.5 * iqr)\n",
    "    upper_bound = q3 + (1.5 * iqr)\n",
    "    \n",
    "    # Remove values outside the lower and upper bounds\n",
    "    series_outliers_removed = series[(series >= lower_bound) & (series <= upper_bound)]\n",
    "    \n",
    "    \n",
    "    return series_outliers_removed\n"
   ]
  },
  {
   "cell_type": "code",
   "execution_count": null,
   "id": "bf593524",
   "metadata": {},
   "outputs": [],
   "source": [
    "# outlier removal of fare amount\n",
    "ride_df['fare_amount']=remove_outliers_iqr(ride_df['fare_amount'],0.90)"
   ]
  },
  {
   "cell_type": "code",
   "execution_count": null,
   "id": "07e4b5ec",
   "metadata": {},
   "outputs": [],
   "source": [
    "# fill nan by median\n",
    "ride_df['fare_amount'].fillna(ride_df['fare_amount'].median(),inplace=True)"
   ]
  },
  {
   "cell_type": "code",
   "execution_count": null,
   "id": "4b4c1ed7",
   "metadata": {},
   "outputs": [],
   "source": [
    "ride_df.loc[ride_df['distance_km']>2000,'distance_km']=ride_df['distance_km'].quantile(0.75)"
   ]
  },
  {
   "cell_type": "code",
   "execution_count": null,
   "id": "30566f82",
   "metadata": {},
   "outputs": [],
   "source": [
    "ride_df.loc[ride_df.distance_km==0,['fare_amount']]=0"
   ]
  },
  {
   "cell_type": "code",
   "execution_count": null,
   "id": "dd061bde",
   "metadata": {},
   "outputs": [],
   "source": [
    "ride_df.loc[(ride_df.distance_km >80) & (ride_df.fare_amount ),['fare_amount']]=49"
   ]
  },
  {
   "cell_type": "code",
   "execution_count": null,
   "id": "4cb64d32",
   "metadata": {},
   "outputs": [],
   "source": [
    "ride_df.loc[(ride_df.distance_km < 1) & (ride_df.fare_amount >30 ),['fare_amount']] = ride_df.fare_amount.quantile(0.25)"
   ]
  },
  {
   "cell_type": "code",
   "execution_count": null,
   "id": "f23202d3",
   "metadata": {},
   "outputs": [],
   "source": [
    "driver_df['Driver_Age_range']=pd.cut(driver_df.Age,bins=[25,33,40,45,60],labels=['25-33','33-40','40-45','45-60'])"
   ]
  },
  {
   "cell_type": "code",
   "execution_count": null,
   "id": "ec7f082e",
   "metadata": {},
   "outputs": [],
   "source": [
    "ride_df['distance_km_range']=pd.cut(ride_df.distance_km,bins=[-1,2.0,6,15,127],labels=['0-2KM','2.1-6KM','6.1-15KM','Above 15KM'])"
   ]
  },
  {
   "cell_type": "code",
   "execution_count": null,
   "id": "a91e5825",
   "metadata": {},
   "outputs": [],
   "source": [
    "ride_df=ride_df.loc[~(ride_df.Origin_longitude <= -91)]"
   ]
  },
  {
   "cell_type": "code",
   "execution_count": null,
   "id": "0001b303",
   "metadata": {},
   "outputs": [],
   "source": [
    "ride_df=ride_df.loc[ride_df['distance_km'] < 100]"
   ]
  },
  {
   "cell_type": "code",
   "execution_count": null,
   "id": "ba07a98d",
   "metadata": {},
   "outputs": [],
   "source": [
    "ride_df.reset_index(drop=True,inplace=True)"
   ]
  },
  {
   "cell_type": "code",
   "execution_count": null,
   "id": "b2b1af6f",
   "metadata": {},
   "outputs": [],
   "source": [
    "s=ride_df.loc[ride_df.distance_km!=0].index.to_list()"
   ]
  },
  {
   "cell_type": "code",
   "execution_count": null,
   "id": "d392860b",
   "metadata": {},
   "outputs": [],
   "source": [
    "# Adding column of hours range \n",
    "ride_df['hours_range']=pd.cut(ride_df.hour,bins=[-1,3,6,8,11,14,17,21,24],labels=['12:00AM-03:00AM','03:00AM-06:00AM','06:00AM-09:00AM','09:00AM-12:00PM','12:00PM-03:00PM','03:00PM-06:00PM','06:00PM-09:00PM','12:00AM-3:00AM'])\n"
   ]
  },
  {
   "cell_type": "code",
   "execution_count": null,
   "id": "abc274d5",
   "metadata": {},
   "outputs": [],
   "source": [
    "ride_df['fare_amount_range']=pd.cut(ride_df.fare_amount,bins=[-1,5,20,40,500],labels=['Inexpensive','Affordable','Economical','Expensive'])"
   ]
  },
  {
   "cell_type": "code",
   "execution_count": null,
   "id": "ddd0dc8d",
   "metadata": {},
   "outputs": [],
   "source": [
    "s2=ride_df.groupby(['year','month'])['Trip_ID'].count().values"
   ]
  },
  {
   "cell_type": "code",
   "execution_count": null,
   "id": "bf590a46",
   "metadata": {},
   "outputs": [],
   "source": [
    "driver_df['REVENUE_GENERATED_BY_DRIVER']=pd.merge(ride_df,driver_df,how='inner',on='Driver_ID').groupby('Driver_ID')['fare_amount'].sum().values"
   ]
  },
  {
   "cell_type": "code",
   "execution_count": null,
   "id": "cc86993b",
   "metadata": {},
   "outputs": [],
   "source": [
    "driver_df['REVENUE_GENERATED_BY_DRIVER_GROUP']=pd.cut(driver_df.REVENUE_GENERATED_BY_DRIVER,bins=[-1,driver_df.REVENUE_GENERATED_BY_DRIVER.quantile(0.18),driver_df.REVENUE_GENERATED_BY_DRIVER.quantile(0.85),driver_df.REVENUE_GENERATED_BY_DRIVER.quantile(0.95),driver_df.REVENUE_GENERATED_BY_DRIVER.max()],labels=['LOW REVENUE','MEDIUM REVENUE','HIGH REVENUE','VERY HIGH REVENUE'])"
   ]
  },
  {
   "cell_type": "code",
   "execution_count": null,
   "id": "38382d38",
   "metadata": {},
   "outputs": [],
   "source": [
    "driver_df.to_csv('cdg_demo_driver_data_nb.csv',index=False)"
   ]
  },
  {
   "cell_type": "code",
   "execution_count": null,
   "id": "bc91e6d8",
   "metadata": {},
   "outputs": [],
   "source": []
  },
  {
   "cell_type": "code",
   "execution_count": null,
   "id": "3b162832",
   "metadata": {},
   "outputs": [],
   "source": []
  },
  {
   "cell_type": "code",
   "execution_count": null,
   "id": "d59f4a9b",
   "metadata": {},
   "outputs": [],
   "source": []
  },
  {
   "cell_type": "code",
   "execution_count": 28,
   "id": "c884da82",
   "metadata": {},
   "outputs": [],
   "source": []
  }
 ],
 "metadata": {
  "kernelspec": {
   "display_name": "Python 3 (ipykernel)",
   "language": "python",
   "name": "python3"
  },
  "language_info": {
   "codemirror_mode": {
    "name": "ipython",
    "version": 3
   },
   "file_extension": ".py",
   "mimetype": "text/x-python",
   "name": "python",
   "nbconvert_exporter": "python",
   "pygments_lexer": "ipython3",
   "version": "3.8.15"
  }
 },
 "nbformat": 4,
 "nbformat_minor": 5
}
