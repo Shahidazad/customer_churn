{
 "cells": [
  {
   "cell_type": "code",
   "execution_count": 1,
   "id": "b9613a6c",
   "metadata": {},
   "outputs": [],
   "source": [
    "import pandas as pd\n",
    "import matplotlib.pyplot as plt\n",
    "import numpy as np\n",
    "import math"
   ]
  },
  {
   "cell_type": "code",
   "execution_count": 2,
   "id": "57a9dedb",
   "metadata": {},
   "outputs": [],
   "source": [
    "cus_df=pd.read_csv('cust_data.csv')\n",
    "ride_df=pd.read_csv('trip_data.csv')\n",
    "driver_df=pd.read_csv('driver_data.csv')"
   ]
  },
  {
   "cell_type": "code",
   "execution_count": 3,
   "id": "78b5c866",
   "metadata": {},
   "outputs": [],
   "source": [
    "cus_df.drop('Unnamed: 0',axis=1,inplace=True)\n",
    "driver_df.drop('Unnamed: 0',axis=1,inplace=True)\n",
    "ride_df.drop('Unnamed: 0',axis=1,inplace=True)"
   ]
  },
  {
   "cell_type": "code",
   "execution_count": 4,
   "id": "913b0aa8",
   "metadata": {},
   "outputs": [],
   "source": [
    "def haversine_distance(lat1, lon1, lat2, lon2):\n",
    "    \"\"\"Calculate the  distance between two points on a Earth.\"\"\"\n",
    "\n",
    "\n",
    "    # Convert latitude and longitude from degrees to radians\n",
    "    lat1_rad = math.radians(lat1)\n",
    "    lon1_rad = math.radians(lon1)\n",
    "    lat2_rad = math.radians(lat2)\n",
    "    lon2_rad = math.radians(lon2)\n",
    "\n",
    "    # Haversine formula\n",
    "    dlat = lat2_rad - lat1_rad\n",
    "    dlon = lon2_rad - lon1_rad\n",
    "    a = math.sin(dlat/2) * math.sin(dlat/2) + math.cos(lat1_rad) * math.cos(lat2_rad) * math.sin(dlon/2) * math.sin(dlon/2)\n",
    "    c = 2 * math.atan2(math.sqrt(a), math.sqrt(1-a))\n",
    "\n",
    "    # Radius of the Earth in kilometers \n",
    "    r = 6371\n",
    "\n",
    "    # Calculate the distance\n",
    "    distance = r * c\n",
    "    return distance"
   ]
  },
  {
   "cell_type": "code",
   "execution_count": 5,
   "id": "69663ac7",
   "metadata": {},
   "outputs": [],
   "source": [
    "#  DataFrame named 'ride_df' with columns 'latitude' and 'longitude'\n",
    "ride_df['distance_km'] = ride_df.apply(lambda row: haversine_distance(row['Origin_latitude'], row['Origin_longitude'], row['Dest_latitude'], row['Dest_longitude']), axis=1)\n"
   ]
  },
  {
   "cell_type": "code",
   "execution_count": 6,
   "id": "8c4c883a",
   "metadata": {},
   "outputs": [],
   "source": [
    "# Convert the 'datetime_column' to datetime format\n",
    "ride_df['Trip_StartTime'] = pd.to_datetime(ride_df['Trip_StartTime'])\n",
    "\n",
    "# Create new columns for date and time (without UTC)\n",
    "ride_df['Trip_StartTime'] = ride_df['Trip_StartTime'].dt.strftime('%Y-%m-%d %H:%M:%S')\n"
   ]
  },
  {
   "cell_type": "code",
   "execution_count": 7,
   "id": "e667bbe1",
   "metadata": {},
   "outputs": [],
   "source": [
    "ride_df=ride_df.sort_values(by='Trip_StartTime')"
   ]
  },
  {
   "cell_type": "code",
   "execution_count": 8,
   "id": "767965fa",
   "metadata": {},
   "outputs": [],
   "source": [
    "ride_df=ride_df.reset_index(drop=True)"
   ]
  },
  {
   "cell_type": "code",
   "execution_count": 9,
   "id": "91369228",
   "metadata": {},
   "outputs": [],
   "source": [
    "# Convert 'pickup_datetime' to datetime format (skip this step if already in datetime format)\n",
    "ride_df['Trip_StartTime'] = pd.to_datetime(ride_df['Trip_StartTime'])"
   ]
  },
  {
   "cell_type": "code",
   "execution_count": 10,
   "id": "c5ee78b0",
   "metadata": {},
   "outputs": [],
   "source": [
    "def remove_outliers_iqr(series,q3):\n",
    "    \"\"\"Removes outliers from a pandas Series using the interquartile range (IQR) method.\n",
    "\n",
    "    Args:\n",
    "        series: A pandas Series.\n",
    "        q3 : 75 percentile.\n",
    "\n",
    "    Returns:\n",
    "        A pandas Series with outliers removed.\n",
    "    \"\"\"\n",
    "    # Calculate the first and third quartiles (Q1 and Q3) of the Series\n",
    "    q1 = series.quantile(0.25)\n",
    "    q3 = series.quantile(q3)\n",
    "    \n",
    "    # Calculate the interquartile range (IQR)\n",
    "    iqr = q3 - q1\n",
    "    \n",
    "    # Define the lower and upper bounds for outliers\n",
    "    lower_bound = q1 - (1.5 * iqr)\n",
    "    upper_bound = q3 + (1.5 * iqr)\n",
    "    \n",
    "    # Remove values outside the lower and upper bounds\n",
    "    series_outliers_removed = series[(series >= lower_bound) & (series <= upper_bound)]\n",
    "    \n",
    "    \n",
    "    return series_outliers_removed\n"
   ]
  },
  {
   "cell_type": "code",
   "execution_count": 11,
   "id": "0922b668",
   "metadata": {},
   "outputs": [],
   "source": [
    "ride_df['fare_amount']=remove_outliers_iqr(ride_df['fare_amount'],0.90)"
   ]
  },
  {
   "cell_type": "code",
   "execution_count": 12,
   "id": "d7c25483",
   "metadata": {},
   "outputs": [],
   "source": [
    "# fill nan by median\n",
    "ride_df['fare_amount'].fillna(ride_df['fare_amount'].median(),inplace=True)"
   ]
  },
  {
   "cell_type": "code",
   "execution_count": 13,
   "id": "5748726a",
   "metadata": {},
   "outputs": [],
   "source": [
    "ride_df.loc[ride_df['distance_km']>2000,'distance_km']=ride_df['distance_km'].quantile(0.75)"
   ]
  },
  {
   "cell_type": "code",
   "execution_count": 14,
   "id": "cb5d56a0",
   "metadata": {},
   "outputs": [],
   "source": [
    "ride_df.loc[ride_df.distance_km==0,['fare_amount']]=0"
   ]
  },
  {
   "cell_type": "code",
   "execution_count": 15,
   "id": "34d0c0d7",
   "metadata": {},
   "outputs": [],
   "source": [
    "ride_df.loc[(ride_df.distance_km >80) & (ride_df.fare_amount ),['fare_amount']]=49"
   ]
  },
  {
   "cell_type": "code",
   "execution_count": 16,
   "id": "a578c36b",
   "metadata": {},
   "outputs": [],
   "source": [
    "ride_df.loc[(ride_df.distance_km < 1) & (ride_df.fare_amount >30 ),['fare_amount']] = ride_df.fare_amount.quantile(0.25)"
   ]
  },
  {
   "cell_type": "code",
   "execution_count": 17,
   "id": "31eececd",
   "metadata": {},
   "outputs": [],
   "source": [
    "driver_df['Driver_Age_range']=pd.cut(driver_df.Age,bins=[26,33,40,45,60],labels=['Young','Adult','Elder','Old age'])"
   ]
  },
  {
   "cell_type": "code",
   "execution_count": 18,
   "id": "67512087",
   "metadata": {},
   "outputs": [],
   "source": [
    "ride_df['distance_km_range']=pd.cut(ride_df.distance_km,bins=[-1,2,4,8,127],labels=['very_short','short','long','very_long'])"
   ]
  },
  {
   "cell_type": "code",
   "execution_count": 19,
   "id": "b1996b3d",
   "metadata": {},
   "outputs": [],
   "source": [
    "cus_df['Cust_Age_range']=pd.cut(cus_df.Age,bins=[20,30,40,45,60],labels=['Young','Adult','Elder','Old age'])"
   ]
  },
  {
   "cell_type": "code",
   "execution_count": 21,
   "id": "aad3a0a3",
   "metadata": {},
   "outputs": [],
   "source": [
    "ride_df=ride_df.loc[~(ride_df.Origin_longitude <= -91)]"
   ]
  },
  {
   "cell_type": "code",
   "execution_count": 22,
   "id": "cd838fc9",
   "metadata": {},
   "outputs": [
    {
     "data": {
      "text/plain": [
       "Old age    17\n",
       "Young      15\n",
       "Adult      11\n",
       "Elder       6\n",
       "Name: Driver_Age_range, dtype: int64"
      ]
     },
     "execution_count": 22,
     "metadata": {},
     "output_type": "execute_result"
    }
   ],
   "source": [
    "driver_df['Driver_Age_range'].value_counts()"
   ]
  },
  {
   "cell_type": "code",
   "execution_count": 23,
   "id": "a7786b0c",
   "metadata": {},
   "outputs": [],
   "source": [
    "ride_df=ride_df.loc[ride_df['distance_km'] < 100]"
   ]
  },
  {
   "cell_type": "code",
   "execution_count": 24,
   "id": "9d5e84ae",
   "metadata": {},
   "outputs": [],
   "source": [
    "ride_df.reset_index(drop=True,inplace=True)"
   ]
  },
  {
   "cell_type": "code",
   "execution_count": 25,
   "id": "4530b7b9",
   "metadata": {},
   "outputs": [],
   "source": [
    "s=ride_df.loc[ride_df.distance_km!=0].index.to_list()\n"
   ]
  },
  {
   "cell_type": "code",
   "execution_count": 26,
   "id": "430a20e8",
   "metadata": {},
   "outputs": [
    {
     "name": "stderr",
     "output_type": "stream",
     "text": [
      "/tmp/ipykernel_7674/2258168249.py:2: SettingWithCopyWarning: \n",
      "A value is trying to be set on a copy of a slice from a DataFrame\n",
      "\n",
      "See the caveats in the documentation: https://pandas.pydata.org/pandas-docs/stable/user_guide/indexing.html#returning-a-view-versus-a-copy\n",
      "  ride_df.iloc[i]['distance_km'] = np.random.randint(0,3) + ride_df.iloc[i]['distance_km']\n"
     ]
    }
   ],
   "source": [
    "for i in ride_df.iloc[s].index:\n",
    "    ride_df.iloc[i]['distance_km'] = np.random.randint(0,3) + ride_df.iloc[i]['distance_km']\n",
    "    \n",
    "\n"
   ]
  },
  {
   "cell_type": "code",
   "execution_count": 28,
   "id": "6af193ac",
   "metadata": {},
   "outputs": [],
   "source": [
    "cancelled_trip_df=ride_df[ride_df.Trip_cancellation==1]"
   ]
  },
  {
   "cell_type": "code",
   "execution_count": 29,
   "id": "47e6a381",
   "metadata": {},
   "outputs": [],
   "source": [
    "cancelled_trip_df=cancelled_trip_df[['Trip_ID','Trip_StartTime','Origin_longitude','Origin_latitude','Dest_longitude','Dest_latitude','Customer_ID','Driver_ID','driver_rated_for_trip','customer_rated_for_trip','Trip_cancellation','Cancelled_by','Reason','year','month']]"
   ]
  },
  {
   "cell_type": "code",
   "execution_count": 40,
   "id": "8109491f",
   "metadata": {},
   "outputs": [],
   "source": [
    "# cancelled_trip_df.to_csv('cancelled_data.csv',index=False)"
   ]
  }
 ],
 "metadata": {
  "kernelspec": {
   "display_name": "Python 3 (ipykernel)",
   "language": "python",
   "name": "python3"
  },
  "language_info": {
   "codemirror_mode": {
    "name": "ipython",
    "version": 3
   },
   "file_extension": ".py",
   "mimetype": "text/x-python",
   "name": "python",
   "nbconvert_exporter": "python",
   "pygments_lexer": "ipython3",
   "version": "3.9.13"
  }
 },
 "nbformat": 4,
 "nbformat_minor": 5
}
