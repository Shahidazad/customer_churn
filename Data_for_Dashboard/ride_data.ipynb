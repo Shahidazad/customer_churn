{
 "cells": [
  {
   "cell_type": "code",
   "execution_count": 1,
   "id": "b9613a6c",
   "metadata": {},
   "outputs": [],
   "source": [
    "# !pip install cx_Oracle\n",
    "# import cx_Oracle\n",
    "import pandas as pd\n",
    "import matplotlib.pyplot as plt\n",
    "import numpy as np\n",
    "import math"
   ]
  },
  {
   "cell_type": "code",
   "execution_count": null,
   "id": "d83ba0bd",
   "metadata": {},
   "outputs": [],
   "source": [
    "# If you are using Wallet file, provide the zip file path for `wallet_location`\n",
    "connection_parameters = {\n",
    "    \"user_name\": \"admin\",\n",
    "    \"password\": \"Oracle_12345\",\n",
    "    \"service_name\": \"adw_low\",\n",
    "    \"wallet_location\": \"Wallet_ADW.zip\"\n",
    "}\n",
    "import pandas as pd\n",
    "import ads\n",
    "\n"
   ]
  },
  {
   "cell_type": "code",
   "execution_count": null,
   "id": "31da5cce",
   "metadata": {},
   "outputs": [],
   "source": [
    "# simple read of a SQL query into a dataframe with no bind variables\n",
    "ride_df = pd.DataFrame.ads.read_sql(\n",
    "    \"SELECT * FROM TRIP_DATA\",\n",
    "    connection_parameters=connection_parameters,\n",
    ")"
   ]
  },
  {
   "cell_type": "code",
   "execution_count": 2,
   "id": "57a9dedb",
   "metadata": {},
   "outputs": [],
   "source": [
    "cus_df=pd.read_csv('Cust_data.csv')\n",
    "ride_df=pd.read_csv('Trip_data.csv')\n",
    "driver_df=pd.read_csv('Driver_data.csv')"
   ]
  },
  {
   "cell_type": "code",
   "execution_count": 8,
   "id": "78b5c866",
   "metadata": {},
   "outputs": [],
   "source": [
    "cus_df.drop('Unnamed: 0',axis=1,inplace=True)\n",
    "driver_df.drop('Unnamed: 0',axis=1,inplace=True)\n",
    "ride_df.drop('Unnamed: 0',axis=1,inplace=True)"
   ]
  },
  {
   "cell_type": "code",
   "execution_count": 9,
   "id": "913b0aa8",
   "metadata": {},
   "outputs": [],
   "source": [
    "def haversine_distance(lat1, lon1, lat2, lon2):\n",
    "    \"\"\"Calculate the  distance between two points on a Earth.\"\"\"\n",
    "\n",
    "\n",
    "    # Convert latitude and longitude from degrees to radians\n",
    "    lat1_rad = math.radians(lat1)\n",
    "    lon1_rad = math.radians(lon1)\n",
    "    lat2_rad = math.radians(lat2)\n",
    "    lon2_rad = math.radians(lon2)\n",
    "\n",
    "    # Haversine formula\n",
    "    dlat = lat2_rad - lat1_rad\n",
    "    dlon = lon2_rad - lon1_rad\n",
    "    a = math.sin(dlat/2) * math.sin(dlat/2) + math.cos(lat1_rad) * math.cos(lat2_rad) * math.sin(dlon/2) * math.sin(dlon/2)\n",
    "    c = 2 * math.atan2(math.sqrt(a), math.sqrt(1-a))\n",
    "\n",
    "    # Radius of the Earth in kilometers \n",
    "    r = 6371\n",
    "\n",
    "    # Calculate the distance\n",
    "    distance = r * c\n",
    "    return distance"
   ]
  },
  {
   "cell_type": "code",
   "execution_count": 10,
   "id": "69663ac7",
   "metadata": {},
   "outputs": [],
   "source": [
    "#  DataFrame named 'ride_df' with columns 'latitude' and 'longitude'\n",
    "ride_df['distance_km'] = ride_df.apply(lambda row: haversine_distance(row['Origin_latitude'], row['Origin_longitude'], row['Dest_latitude'], row['Dest_longitude']), axis=1)\n"
   ]
  },
  {
   "cell_type": "code",
   "execution_count": 11,
   "id": "8c4c883a",
   "metadata": {},
   "outputs": [],
   "source": [
    "# Convert the 'datetime_column' to datetime format\n",
    "ride_df['Trip_StartTime'] = pd.to_datetime(ride_df['Trip_StartTime'])\n",
    "\n",
    "# Create new columns for date and time (without UTC)\n",
    "ride_df['Trip_StartTime'] = ride_df['Trip_StartTime'].dt.strftime('%Y-%m-%d %H:%M:%S')\n"
   ]
  },
  {
   "cell_type": "code",
   "execution_count": 12,
   "id": "e667bbe1",
   "metadata": {},
   "outputs": [],
   "source": [
    "ride_df=ride_df.sort_values(by='Trip_StartTime')"
   ]
  },
  {
   "cell_type": "code",
   "execution_count": 13,
   "id": "767965fa",
   "metadata": {},
   "outputs": [],
   "source": [
    "ride_df=ride_df.reset_index(drop=True)"
   ]
  },
  {
   "cell_type": "code",
   "execution_count": 14,
   "id": "91369228",
   "metadata": {},
   "outputs": [],
   "source": [
    "# Convert 'pickup_datetime' to datetime format (skip this step if already in datetime format)\n",
    "ride_df['Trip_StartTime'] = pd.to_datetime(ride_df['Trip_StartTime'])"
   ]
  },
  {
   "cell_type": "code",
   "execution_count": 15,
   "id": "c5ee78b0",
   "metadata": {},
   "outputs": [],
   "source": [
    "def remove_outliers_iqr(series,q3):\n",
    "    \"\"\"Removes outliers from a pandas Series using the interquartile range (IQR) method.\n",
    "\n",
    "    Args:\n",
    "        series: A pandas Series.\n",
    "        q3 : 75 percentile.\n",
    "\n",
    "    Returns:\n",
    "        A pandas Series with outliers removed.\n",
    "    \"\"\"\n",
    "    # Calculate the first and third quartiles (Q1 and Q3) of the Series\n",
    "    q1 = series.quantile(0.25)\n",
    "    q3 = series.quantile(q3)\n",
    "    \n",
    "    # Calculate the interquartile range (IQR)\n",
    "    iqr = q3 - q1\n",
    "    \n",
    "    # Define the lower and upper bounds for outliers\n",
    "    lower_bound = q1 - (1.5 * iqr)\n",
    "    upper_bound = q3 + (1.5 * iqr)\n",
    "    \n",
    "    # Remove values outside the lower and upper bounds\n",
    "    series_outliers_removed = series[(series >= lower_bound) & (series <= upper_bound)]\n",
    "    \n",
    "    \n",
    "    return series_outliers_removed\n"
   ]
  },
  {
   "cell_type": "code",
   "execution_count": 16,
   "id": "0922b668",
   "metadata": {},
   "outputs": [],
   "source": [
    "ride_df['fare_amount']=remove_outliers_iqr(ride_df['fare_amount'],0.90)"
   ]
  },
  {
   "cell_type": "code",
   "execution_count": 17,
   "id": "d7c25483",
   "metadata": {},
   "outputs": [],
   "source": [
    "# fill nan by median\n",
    "ride_df['fare_amount'].fillna(ride_df['fare_amount'].median(),inplace=True)"
   ]
  },
  {
   "cell_type": "code",
   "execution_count": 18,
   "id": "5748726a",
   "metadata": {},
   "outputs": [],
   "source": [
    "ride_df.loc[ride_df['distance_km']>2000,'distance_km']=ride_df['distance_km'].quantile(0.75)"
   ]
  },
  {
   "cell_type": "code",
   "execution_count": 19,
   "id": "cb5d56a0",
   "metadata": {},
   "outputs": [],
   "source": [
    "ride_df.loc[ride_df.distance_km==0,['fare_amount']]=0"
   ]
  },
  {
   "cell_type": "code",
   "execution_count": 20,
   "id": "34d0c0d7",
   "metadata": {},
   "outputs": [],
   "source": [
    "ride_df.loc[(ride_df.distance_km >80) & (ride_df.fare_amount ),['fare_amount']]=49"
   ]
  },
  {
   "cell_type": "code",
   "execution_count": 21,
   "id": "a578c36b",
   "metadata": {},
   "outputs": [],
   "source": [
    "ride_df.loc[(ride_df.distance_km < 1) & (ride_df.fare_amount >30 ),['fare_amount']] = ride_df.fare_amount.quantile(0.25)"
   ]
  },
  {
   "cell_type": "code",
   "execution_count": 22,
   "id": "31eececd",
   "metadata": {},
   "outputs": [],
   "source": [
    "driver_df['Driver_Age_range']=pd.cut(driver_df.Age,bins=[26,33,40,45,60],labels=['Young','Adult','Elder','Old age'])"
   ]
  },
  {
   "cell_type": "code",
   "execution_count": 23,
   "id": "67512087",
   "metadata": {},
   "outputs": [],
   "source": [
    "ride_df['distance_km_range']=pd.cut(ride_df.distance_km,bins=[-1,2,4,8,127],labels=['very_short','short','long','very_long'])"
   ]
  },
  {
   "cell_type": "code",
   "execution_count": 24,
   "id": "aad3a0a3",
   "metadata": {},
   "outputs": [],
   "source": [
    "ride_df=ride_df.loc[~(ride_df.Origin_longitude <= -91)]"
   ]
  },
  {
   "cell_type": "code",
   "execution_count": 25,
   "id": "a7786b0c",
   "metadata": {},
   "outputs": [],
   "source": [
    "ride_df=ride_df.loc[ride_df['distance_km'] < 100]"
   ]
  },
  {
   "cell_type": "code",
   "execution_count": 26,
   "id": "9d5e84ae",
   "metadata": {},
   "outputs": [],
   "source": [
    "ride_df.reset_index(drop=True,inplace=True)"
   ]
  },
  {
   "cell_type": "code",
   "execution_count": 27,
   "id": "4530b7b9",
   "metadata": {},
   "outputs": [],
   "source": [
    "s=ride_df.loc[ride_df.distance_km!=0].index.to_list()\n"
   ]
  },
  {
   "cell_type": "code",
   "execution_count": 28,
   "id": "430a20e8",
   "metadata": {},
   "outputs": [
    {
     "name": "stderr",
     "output_type": "stream",
     "text": [
      "/tmp/ipykernel_6262/2258168249.py:2: SettingWithCopyWarning: \n",
      "A value is trying to be set on a copy of a slice from a DataFrame\n",
      "\n",
      "See the caveats in the documentation: https://pandas.pydata.org/pandas-docs/stable/user_guide/indexing.html#returning-a-view-versus-a-copy\n",
      "  ride_df.iloc[i]['distance_km'] = np.random.randint(0,3) + ride_df.iloc[i]['distance_km']\n"
     ]
    }
   ],
   "source": [
    "for i in ride_df.iloc[s].index:\n",
    "    ride_df.iloc[i]['distance_km'] = np.random.randint(0,3) + ride_df.iloc[i]['distance_km']\n",
    "    \n",
    "\n"
   ]
  },
  {
   "cell_type": "code",
   "execution_count": 29,
   "id": "8937bb04",
   "metadata": {},
   "outputs": [],
   "source": [
    "ride_df['hours_range']=pd.cut(ride_df.hour,bins=[-1,3,6,8,11,14,17,21,24],labels=['12:00AM-03:00AM','03:00AM-06:00AM','06:00AM-09:00AM','09:00AM-12:00PM','12:00PM-03:00PM','03:00PM-06:00PM','06:00PM-09:00PM','12:00AM-3:00AM'])\n",
    "# pd.cut(driver_df.Age,bins=[26,33,40,45,60],labels=['Young','Adult','Elder','Old age'])"
   ]
  },
  {
   "cell_type": "code",
   "execution_count": 31,
   "id": "d56ba0ef",
   "metadata": {},
   "outputs": [],
   "source": [
    "ride_df['fare_amount_range']=pd.cut(ride_df.fare_amount,bins=[-1,5,20,40,500],labels=['Inexpensive','Affordable','Economical','Expensive'])"
   ]
  },
  {
   "cell_type": "code",
   "execution_count": 32,
   "id": "d024e237",
   "metadata": {},
   "outputs": [
    {
     "data": {
      "text/plain": [
       "Trip_ID   fare_amount  Trip_StartTime       Origin_longitude  Origin_latitude  Dest_longitude  Dest_latitude  passenger_count  Customer_ID  Driver_ID  driver_rated_for_trip  customer_rated_for_trip  Trip_cancellation  Cancelled_by  Reason                          year  month  date  hour  minutes  seconds  Region            distance_km  distance_km_range  hours_range      fare_amount_range\n",
       "6674      6.5          2015-01-12 17:01:10  -73.989960        40.757118        -73.978287      40.760780      1                C38493       D13828     3                      5                        0                  0             0                               2015  1      12    17    1        10       Pubs              1.064161     very_short         03:00PM-06:00PM  Affordable           1\n",
       "36987373  6.0          2015-02-25 08:45:13  -73.983276        40.734722        -73.997002      40.728813      4                C25673       D14244     2                      3                        0                  0             0                               2015  2      25    8     45       13       Airport           1.330113     very_short         06:00AM-09:00AM  Affordable           1\n",
       "37006291  9.5          2014-11-28 23:46:00  -73.946803        40.776492        -73.979243      40.790320      2                C22251       D98272     5                      2                        0                  0             0                               2014  11     28    23    46       0        SubwayStations    3.134351     short              12:00AM-3:00AM   Affordable           1\n",
       "37004368  18.0         2015-01-21 06:39:31  -73.950943        40.780182        -74.003700      40.729397      1                C23868       D11048     1                      2                        0                  0             0                               2015  1      21    6     39       31       Airport           7.185858     long               03:00AM-06:00AM  Affordable           1\n",
       "37001040  15.0         2015-06-16 13:14:50  -74.009064        40.704529        -73.990631      40.728516      1                C20659       D43171     1                      1                        0                  0             0                               2015  6      16    13    14       50       Tourist_Spots     3.086644     short              12:00PM-03:00PM  Affordable           1\n",
       "                                                                                                                                                                                                                                                                                                                                                                                                          ..\n",
       "18477798  11.5         2015-03-15 14:36:13  -73.984467        40.764500        -73.951485      40.771667      1                C20815       D48465     3                      5                        0                  0             0                               2015  3      15    14    36       13       Industrial_Zones  2.889643     short              12:00PM-03:00PM  Affordable           1\n",
       "18477081  14.5         2014-12-05 13:26:46  -73.948728        40.777833        -73.955999      40.771829      1                C20815       D11048     3                      5                        1                  Driver        Customer not found on location  2014  12     5     13    26       46       Tourist_Spots     0.905855     very_short         12:00PM-03:00PM  Affordable           1\n",
       "18473419  33.5         2014-10-25 23:41:16  -73.968344        40.759702        -73.853557      40.829217      1                C27146       D22175     5                      3                        0                  0             0                               2014  10     25    23    41       16       SubwayStations    12.374161    very_long          12:00AM-3:00AM   Economical           1\n",
       "18471781  17.5         2014-11-17 07:29:00  -73.956897        40.766652        -73.966670      40.804090      1                C22518       D63151     5                      4                        0                  0             0                               2014  11     17    7     29       0        Industrial_Zones  4.243453     long               06:00AM-09:00AM  Affordable           1\n",
       "55421562  4.0          2015-02-12 22:45:12  -73.987602        40.732643        -73.983047      40.738808      4                C23982       D12789     2                      2                        0                  0             0                               2015  2      12    22    45       12       SubwayStations    0.785582     very_short         12:00AM-3:00AM   Inexpensive          1\n",
       "Length: 19993, dtype: int64"
      ]
     },
     "execution_count": 32,
     "metadata": {},
     "output_type": "execute_result"
    }
   ],
   "source": [
    "ride_df.value_counts()"
   ]
  },
  {
   "cell_type": "code",
   "execution_count": 31,
   "id": "1cca3cf7",
   "metadata": {},
   "outputs": [],
   "source": [
    "ride_df.to_csv('ride_df_prepro_1.csv')"
   ]
  }
 ],
 "metadata": {
  "kernelspec": {
   "display_name": "Python 3 (ipykernel)",
   "language": "python",
   "name": "python3"
  },
  "language_info": {
   "codemirror_mode": {
    "name": "ipython",
    "version": 3
   },
   "file_extension": ".py",
   "mimetype": "text/x-python",
   "name": "python",
   "nbconvert_exporter": "python",
   "pygments_lexer": "ipython3",
   "version": "3.9.13"
  }
 },
 "nbformat": 4,
 "nbformat_minor": 5
}
